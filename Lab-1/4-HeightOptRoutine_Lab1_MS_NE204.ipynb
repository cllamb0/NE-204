{
 "cells": [
  {
   "cell_type": "markdown",
   "id": "0cf14ed6",
   "metadata": {},
   "source": [
    "# Step 4 NE204 Lab 1\n",
    "## Height Finding Method Optimization Routine\n",
    "__Dates: 08/2022 to 10/2022.__\n",
    "\n",
    "__Group: Megan Schiferl, Chris Lamb, Curtis Berger, Jisu Park__\n",
    "\n",
    "__Contents:__\n",
    "This notebook takes in raw pulses and returns 3 csv files containing trapezoid height. The first file finds the heights using the maximum value method, the second uses a trapezoid fitting method, and the third uses a gradient method. This notebook is also used to save the heights of trapezoids using only the maximum value method for multiple sources (simply change the data file and don't run the last two cells)\n",
    "\n",
    "     Section 1: Imports and Directory\n",
    "     Section 2: Functions\n",
    "     Section 3: Calculating Trapezoids\n",
    "     Section 4: Height Finding Methods\n",
    "     \n",
    "__Notes on Running:__\n",
    "As usual, you'll need to check your directory and the imported data name, but otherwise you should be able to run all. This one takes about 10 mins to run, but I also uploaded the csv files that I got from running this to github, so you don't have to take the time to run it. "
   ]
  },
  {
   "cell_type": "markdown",
   "id": "8560fc04",
   "metadata": {},
   "source": [
    "# Section 1: Imports and Directory"
   ]
  },
  {
   "cell_type": "code",
   "execution_count": 5,
   "id": "b8a23b45",
   "metadata": {},
   "outputs": [],
   "source": [
    "import numpy as np\n",
    "import matplotlib.pyplot as plt\n",
    "import h5py\n",
    "import time\n",
    "import pandas as pd\n",
    "from scipy import signal\n",
    "from scipy.signal import savgol_filter\n",
    "from scipy.optimize import curve_fit\n",
    "import os\n",
    "from tqdm import notebook\n",
    "import matplotlib.colors as mcolors\n",
    "from decimal import Decimal"
   ]
  },
  {
   "cell_type": "code",
   "execution_count": 6,
   "id": "10823f16",
   "metadata": {},
   "outputs": [
    {
     "name": "stdout",
     "output_type": "stream",
     "text": [
      "Current working directory C:\\Users\\megas\\Documents\\Cal\\NEFall2022\\Detectors204\\lab1\n"
     ]
    }
   ],
   "source": [
    "# change directory\n",
    "os.chdir(r'C:/Users/megas/Documents/Cal/NEFall2022/Detectors204/lab1/')\n",
    "\n",
    "#check current working directory\n",
    "retval = os.getcwd()\n",
    "print (\"Current working directory %s\" %retval)"
   ]
  },
  {
   "cell_type": "code",
   "execution_count": 7,
   "id": "0bd59a4f",
   "metadata": {},
   "outputs": [
    {
     "name": "stdout",
     "output_type": "stream",
     "text": [
      "How long did you collect this data:5mins\n",
      "What isotope did you measure?:Eu152\n"
     ]
    }
   ],
   "source": [
    "#Input the data file and find the keys\n",
    "path = r'C:\\Users\\megas\\Documents\\Cal\\NEFall2022\\Detectors204\\lab1\\FinalData\\Eu152-24in-5-001.h5'\n",
    "    \n",
    "f = h5py.File(path, 'r')\n",
    "\n",
    "length = input(\"How long did you collect this data:\")\n",
    "isotope = input(\"What isotope did you measure?:\")"
   ]
  },
  {
   "cell_type": "code",
   "execution_count": 8,
   "id": "06da88aa",
   "metadata": {},
   "outputs": [
    {
     "name": "stdout",
     "output_type": "stream",
     "text": [
      "The number of pulses in this file is: 33833\n",
      "The length of each pulse is: 62500\n"
     ]
    }
   ],
   "source": [
    "#Save the data into an array for analysis\n",
    "pulses = np.array(f['raw_data'])\n",
    "\n",
    "f.close()\n",
    "#Remove the last second of pulses due to DAC mistake (approximate)\n",
    "pulses = pulses[:-140]\n",
    "\n",
    "print(\"The number of pulses in this file is:\", len(pulses))\n",
    "print(\"The length of each pulse is:\", len(pulses[0]))"
   ]
  },
  {
   "cell_type": "code",
   "execution_count": 9,
   "id": "11799bf3",
   "metadata": {},
   "outputs": [
    {
     "data": {
      "application/vnd.jupyter.widget-view+json": {
       "model_id": "f3c98195cb104e838cabade04e04d740",
       "version_major": 2,
       "version_minor": 0
      },
      "text/plain": [
       "  0%|          | 0/33833 [00:00<?, ?it/s]"
      ]
     },
     "metadata": {},
     "output_type": "display_data"
    },
    {
     "name": "stdout",
     "output_type": "stream",
     "text": [
      "5000 5000 5000 5000 5000 5000 3833\n"
     ]
    }
   ],
   "source": [
    "#Split the large files up into different arrays\n",
    "pulses1 = []\n",
    "pulses2 = []\n",
    "pulses3 = []\n",
    "pulses4 = []\n",
    "pulses5 = []\n",
    "pulses6 = []\n",
    "pulses7 = []\n",
    "for i in notebook.tqdm(range(len(pulses))):\n",
    "    if i < 5000:\n",
    "        pulses1.append(pulses[i])\n",
    "    elif i < 10000:\n",
    "        pulses2.append(pulses[i])\n",
    "    elif i < 15000:\n",
    "        pulses3.append(pulses[i])\n",
    "    elif i < 20000:\n",
    "        pulses4.append(pulses[i])\n",
    "    elif i < 25000:\n",
    "        pulses5.append(pulses[i])\n",
    "    elif i < 30000:\n",
    "        pulses6.append(pulses[i])\n",
    "    else:\n",
    "        pulses7.append(pulses[i])\n",
    "\n",
    "pulse_names = [pulses1, pulses2, pulses3, pulses4, pulses5, pulses6, pulses7]\n",
    "        \n",
    "print(len(pulses1), len(pulses2), len(pulses3), len(pulses4), len(pulses5), len(pulses6), len(pulses7))"
   ]
  },
  {
   "cell_type": "markdown",
   "id": "ba01b810",
   "metadata": {},
   "source": [
    "# Section 2: Functions"
   ]
  },
  {
   "cell_type": "code",
   "execution_count": 10,
   "id": "abf729bd",
   "metadata": {},
   "outputs": [],
   "source": [
    "#defining an exponential function\n",
    "def exp_func(x, a, b, c):\n",
    "    #returns a times e^(-b times a) + c\n",
    "    return a * np.exp(-b * x) + c\n",
    "    \n",
    "#Finding the start of rise index using V4 from the notes notebook\n",
    "def determine_rise(signal, sigma=8, window=20, offset=15):\n",
    "    noise_samp = signal[:500]\n",
    "    mean, std = np.mean(noise_samp), np.std(noise_samp)\n",
    "\n",
    "    grad = np.gradient(np.where(signal > mean+sigma*std, signal, 0))\n",
    "\n",
    "    grad_pos, grad_neg = np.argwhere(grad>2), np.argwhere(grad<-2)\n",
    "\n",
    "    rise_start = 0\n",
    "    for gp in grad_pos:\n",
    "        close = False\n",
    "        for gn in grad_neg:\n",
    "            if (gp-gn < window and gp-gn >0):\n",
    "                close = True\n",
    "        if not close:\n",
    "            rise_start = gp\n",
    "            break\n",
    "\n",
    "    return int(rise_start-offset)\n",
    "\n",
    "#Define the trapezoidal filter and signal output function\n",
    "def delay_signal(signal, delay, p=500):\n",
    "    np.random.seed(9)\n",
    "    noise_samp = signal[:p]\n",
    "    mean, std = np.mean(noise_samp), np.std(noise_samp)\n",
    "    noise = np.random.normal(mean, 0.8*std, delay)\n",
    "    return np.hstack([noise, signal])\n",
    "\n",
    "def dkl(signal, i, k, l, w=0):\n",
    "    if w == 0:\n",
    "        w = int(2.5*k+l)\n",
    "    vj = signal[i+w:i+w+w] \n",
    "    vjk = signal[i+w-k:i+w-k+w]\n",
    "    vjl = signal[i+w-l:i+w-l+w]\n",
    "    vjkl = signal[i+w-k-l:i+w-k-l+w]\n",
    "    dkl_s = vj - vjk - vjl + vjkl\n",
    "    return dkl_s\n",
    "\n",
    "def sfunc(signal, start_rise, tau, peaking_time, gap_time, w=0):\n",
    "    if w == 0:\n",
    "        w = int(2.5*peaking_time+gap_time)\n",
    "    ss = []\n",
    "    dkl_s = dkl(signal, start_rise, peaking_time, peaking_time+gap_time, w)\n",
    "    for j in range(w):\n",
    "        if j == 0:\n",
    "            ss.append(0)\n",
    "        else:\n",
    "            ss.append(ss[j-1]*(1+1/tau)+ dkl_s[j])\n",
    "    return np.array(ss)\n",
    "\n",
    "def fit_trap(x, topleft, topright, top, ps, pe, e):\n",
    "    #Trapezoid signal shape\n",
    "    tr = np.zeros(len(x))\n",
    "    tr[:int(ps)] = 0\n",
    "    tr[int(ps):int(topleft)] = ((top-0)/(topleft-ps))*(x[int(ps):int(topleft)]-ps)+0\n",
    "    tr[int(topleft):int(topright)] = top\n",
    "    tr[int(topright):int(pe)] = ((e-top)/(pe-topright))*(x[int(topright):int(pe)]-pe)+e\n",
    "    tr[int(pe):] = e\n",
    "    return tr"
   ]
  },
  {
   "cell_type": "markdown",
   "id": "e56951a9",
   "metadata": {},
   "source": [
    "# Section 3: Calculating Trapezoids"
   ]
  },
  {
   "cell_type": "code",
   "execution_count": 11,
   "id": "3b153cf5",
   "metadata": {
    "scrolled": false
   },
   "outputs": [
    {
     "data": {
      "application/vnd.jupyter.widget-view+json": {
       "model_id": "b918621ffd014cdab9d18e68090766ec",
       "version_major": 2,
       "version_minor": 0
      },
      "text/plain": [
       "Iteration Over Chunks of Pulses:   0%|          | 0/7 [00:00<?, ?it/s]"
      ]
     },
     "metadata": {},
     "output_type": "display_data"
    },
    {
     "data": {
      "application/vnd.jupyter.widget-view+json": {
       "model_id": "",
       "version_major": 2,
       "version_minor": 0
      },
      "text/plain": [
       "Removing Saturated Pulses:   0%|          | 0/5000 [00:00<?, ?it/s]"
      ]
     },
     "metadata": {},
     "output_type": "display_data"
    },
    {
     "data": {
      "application/vnd.jupyter.widget-view+json": {
       "model_id": "",
       "version_major": 2,
       "version_minor": 0
      },
      "text/plain": [
       "Noise Floor Subtraction:   0%|          | 0/4992 [00:00<?, ?it/s]"
      ]
     },
     "metadata": {},
     "output_type": "display_data"
    },
    {
     "data": {
      "application/vnd.jupyter.widget-view+json": {
       "model_id": "",
       "version_major": 2,
       "version_minor": 0
      },
      "text/plain": [
       "Finding index of max:   0%|          | 0/4992 [00:00<?, ?it/s]"
      ]
     },
     "metadata": {},
     "output_type": "display_data"
    },
    {
     "data": {
      "application/vnd.jupyter.widget-view+json": {
       "model_id": "",
       "version_major": 2,
       "version_minor": 0
      },
      "text/plain": [
       "Finding Tau:   0%|          | 0/100 [00:00<?, ?it/s]"
      ]
     },
     "metadata": {},
     "output_type": "display_data"
    },
    {
     "name": "stderr",
     "output_type": "stream",
     "text": [
      "C:\\Users\\megas\\anaconda3\\envs\\NE204V1\\lib\\site-packages\\ipykernel_launcher.py:4: RuntimeWarning: overflow encountered in exp\n",
      "  after removing the cwd from sys.path.\n",
      "C:\\Users\\megas\\anaconda3\\envs\\NE204V1\\lib\\site-packages\\ipykernel_launcher.py:4: RuntimeWarning: overflow encountered in multiply\n",
      "  after removing the cwd from sys.path.\n"
     ]
    },
    {
     "data": {
      "application/vnd.jupyter.widget-view+json": {
       "model_id": "",
       "version_major": 2,
       "version_minor": 0
      },
      "text/plain": [
       "Finding the start rise index:   0%|          | 0/4992 [00:00<?, ?it/s]"
      ]
     },
     "metadata": {},
     "output_type": "display_data"
    },
    {
     "data": {
      "application/vnd.jupyter.widget-view+json": {
       "model_id": "",
       "version_major": 2,
       "version_minor": 0
      },
      "text/plain": [
       "Delaying Signals:   0%|          | 0/4992 [00:00<?, ?it/s]"
      ]
     },
     "metadata": {},
     "output_type": "display_data"
    },
    {
     "data": {
      "application/vnd.jupyter.widget-view+json": {
       "model_id": "",
       "version_major": 2,
       "version_minor": 0
      },
      "text/plain": [
       "Calculating Trapezoids:   0%|          | 0/4992 [00:00<?, ?it/s]"
      ]
     },
     "metadata": {},
     "output_type": "display_data"
    },
    {
     "data": {
      "application/vnd.jupyter.widget-view+json": {
       "model_id": "",
       "version_major": 2,
       "version_minor": 0
      },
      "text/plain": [
       "Removing Saturated Pulses:   0%|          | 0/5000 [00:00<?, ?it/s]"
      ]
     },
     "metadata": {},
     "output_type": "display_data"
    },
    {
     "data": {
      "application/vnd.jupyter.widget-view+json": {
       "model_id": "",
       "version_major": 2,
       "version_minor": 0
      },
      "text/plain": [
       "Noise Floor Subtraction:   0%|          | 0/4991 [00:00<?, ?it/s]"
      ]
     },
     "metadata": {},
     "output_type": "display_data"
    },
    {
     "data": {
      "application/vnd.jupyter.widget-view+json": {
       "model_id": "",
       "version_major": 2,
       "version_minor": 0
      },
      "text/plain": [
       "Finding index of max:   0%|          | 0/4991 [00:00<?, ?it/s]"
      ]
     },
     "metadata": {},
     "output_type": "display_data"
    },
    {
     "data": {
      "application/vnd.jupyter.widget-view+json": {
       "model_id": "",
       "version_major": 2,
       "version_minor": 0
      },
      "text/plain": [
       "Finding the start rise index:   0%|          | 0/4991 [00:00<?, ?it/s]"
      ]
     },
     "metadata": {},
     "output_type": "display_data"
    },
    {
     "data": {
      "application/vnd.jupyter.widget-view+json": {
       "model_id": "",
       "version_major": 2,
       "version_minor": 0
      },
      "text/plain": [
       "Delaying Signals:   0%|          | 0/4991 [00:00<?, ?it/s]"
      ]
     },
     "metadata": {},
     "output_type": "display_data"
    },
    {
     "data": {
      "application/vnd.jupyter.widget-view+json": {
       "model_id": "",
       "version_major": 2,
       "version_minor": 0
      },
      "text/plain": [
       "Calculating Trapezoids:   0%|          | 0/4991 [00:00<?, ?it/s]"
      ]
     },
     "metadata": {},
     "output_type": "display_data"
    },
    {
     "data": {
      "application/vnd.jupyter.widget-view+json": {
       "model_id": "",
       "version_major": 2,
       "version_minor": 0
      },
      "text/plain": [
       "Removing Saturated Pulses:   0%|          | 0/5000 [00:00<?, ?it/s]"
      ]
     },
     "metadata": {},
     "output_type": "display_data"
    },
    {
     "data": {
      "application/vnd.jupyter.widget-view+json": {
       "model_id": "",
       "version_major": 2,
       "version_minor": 0
      },
      "text/plain": [
       "Noise Floor Subtraction:   0%|          | 0/4993 [00:00<?, ?it/s]"
      ]
     },
     "metadata": {},
     "output_type": "display_data"
    },
    {
     "data": {
      "application/vnd.jupyter.widget-view+json": {
       "model_id": "",
       "version_major": 2,
       "version_minor": 0
      },
      "text/plain": [
       "Finding index of max:   0%|          | 0/4993 [00:00<?, ?it/s]"
      ]
     },
     "metadata": {},
     "output_type": "display_data"
    },
    {
     "data": {
      "application/vnd.jupyter.widget-view+json": {
       "model_id": "",
       "version_major": 2,
       "version_minor": 0
      },
      "text/plain": [
       "Finding the start rise index:   0%|          | 0/4993 [00:00<?, ?it/s]"
      ]
     },
     "metadata": {},
     "output_type": "display_data"
    },
    {
     "name": "stdout",
     "output_type": "stream",
     "text": [
      "3751\n"
     ]
    },
    {
     "data": {
      "application/vnd.jupyter.widget-view+json": {
       "model_id": "",
       "version_major": 2,
       "version_minor": 0
      },
      "text/plain": [
       "Delaying Signals:   0%|          | 0/4993 [00:00<?, ?it/s]"
      ]
     },
     "metadata": {},
     "output_type": "display_data"
    },
    {
     "data": {
      "application/vnd.jupyter.widget-view+json": {
       "model_id": "",
       "version_major": 2,
       "version_minor": 0
      },
      "text/plain": [
       "Calculating Trapezoids:   0%|          | 0/4993 [00:00<?, ?it/s]"
      ]
     },
     "metadata": {},
     "output_type": "display_data"
    },
    {
     "data": {
      "application/vnd.jupyter.widget-view+json": {
       "model_id": "",
       "version_major": 2,
       "version_minor": 0
      },
      "text/plain": [
       "Removing Saturated Pulses:   0%|          | 0/5000 [00:00<?, ?it/s]"
      ]
     },
     "metadata": {},
     "output_type": "display_data"
    },
    {
     "data": {
      "application/vnd.jupyter.widget-view+json": {
       "model_id": "",
       "version_major": 2,
       "version_minor": 0
      },
      "text/plain": [
       "Noise Floor Subtraction:   0%|          | 0/4984 [00:00<?, ?it/s]"
      ]
     },
     "metadata": {},
     "output_type": "display_data"
    },
    {
     "data": {
      "application/vnd.jupyter.widget-view+json": {
       "model_id": "",
       "version_major": 2,
       "version_minor": 0
      },
      "text/plain": [
       "Finding index of max:   0%|          | 0/4984 [00:00<?, ?it/s]"
      ]
     },
     "metadata": {},
     "output_type": "display_data"
    },
    {
     "data": {
      "application/vnd.jupyter.widget-view+json": {
       "model_id": "",
       "version_major": 2,
       "version_minor": 0
      },
      "text/plain": [
       "Finding the start rise index:   0%|          | 0/4984 [00:00<?, ?it/s]"
      ]
     },
     "metadata": {},
     "output_type": "display_data"
    },
    {
     "name": "stdout",
     "output_type": "stream",
     "text": [
      "4297\n"
     ]
    },
    {
     "data": {
      "application/vnd.jupyter.widget-view+json": {
       "model_id": "",
       "version_major": 2,
       "version_minor": 0
      },
      "text/plain": [
       "Delaying Signals:   0%|          | 0/4984 [00:00<?, ?it/s]"
      ]
     },
     "metadata": {},
     "output_type": "display_data"
    },
    {
     "data": {
      "application/vnd.jupyter.widget-view+json": {
       "model_id": "",
       "version_major": 2,
       "version_minor": 0
      },
      "text/plain": [
       "Calculating Trapezoids:   0%|          | 0/4984 [00:00<?, ?it/s]"
      ]
     },
     "metadata": {},
     "output_type": "display_data"
    },
    {
     "data": {
      "application/vnd.jupyter.widget-view+json": {
       "model_id": "",
       "version_major": 2,
       "version_minor": 0
      },
      "text/plain": [
       "Removing Saturated Pulses:   0%|          | 0/5000 [00:00<?, ?it/s]"
      ]
     },
     "metadata": {},
     "output_type": "display_data"
    },
    {
     "data": {
      "application/vnd.jupyter.widget-view+json": {
       "model_id": "",
       "version_major": 2,
       "version_minor": 0
      },
      "text/plain": [
       "Noise Floor Subtraction:   0%|          | 0/4991 [00:00<?, ?it/s]"
      ]
     },
     "metadata": {},
     "output_type": "display_data"
    },
    {
     "data": {
      "application/vnd.jupyter.widget-view+json": {
       "model_id": "",
       "version_major": 2,
       "version_minor": 0
      },
      "text/plain": [
       "Finding index of max:   0%|          | 0/4991 [00:00<?, ?it/s]"
      ]
     },
     "metadata": {},
     "output_type": "display_data"
    },
    {
     "data": {
      "application/vnd.jupyter.widget-view+json": {
       "model_id": "",
       "version_major": 2,
       "version_minor": 0
      },
      "text/plain": [
       "Finding the start rise index:   0%|          | 0/4991 [00:00<?, ?it/s]"
      ]
     },
     "metadata": {},
     "output_type": "display_data"
    },
    {
     "data": {
      "application/vnd.jupyter.widget-view+json": {
       "model_id": "",
       "version_major": 2,
       "version_minor": 0
      },
      "text/plain": [
       "Delaying Signals:   0%|          | 0/4991 [00:00<?, ?it/s]"
      ]
     },
     "metadata": {},
     "output_type": "display_data"
    },
    {
     "data": {
      "application/vnd.jupyter.widget-view+json": {
       "model_id": "",
       "version_major": 2,
       "version_minor": 0
      },
      "text/plain": [
       "Calculating Trapezoids:   0%|          | 0/4991 [00:00<?, ?it/s]"
      ]
     },
     "metadata": {},
     "output_type": "display_data"
    },
    {
     "data": {
      "application/vnd.jupyter.widget-view+json": {
       "model_id": "",
       "version_major": 2,
       "version_minor": 0
      },
      "text/plain": [
       "Removing Saturated Pulses:   0%|          | 0/5000 [00:00<?, ?it/s]"
      ]
     },
     "metadata": {},
     "output_type": "display_data"
    },
    {
     "data": {
      "application/vnd.jupyter.widget-view+json": {
       "model_id": "",
       "version_major": 2,
       "version_minor": 0
      },
      "text/plain": [
       "Noise Floor Subtraction:   0%|          | 0/4987 [00:00<?, ?it/s]"
      ]
     },
     "metadata": {},
     "output_type": "display_data"
    },
    {
     "data": {
      "application/vnd.jupyter.widget-view+json": {
       "model_id": "",
       "version_major": 2,
       "version_minor": 0
      },
      "text/plain": [
       "Finding index of max:   0%|          | 0/4987 [00:00<?, ?it/s]"
      ]
     },
     "metadata": {},
     "output_type": "display_data"
    },
    {
     "data": {
      "application/vnd.jupyter.widget-view+json": {
       "model_id": "",
       "version_major": 2,
       "version_minor": 0
      },
      "text/plain": [
       "Finding the start rise index:   0%|          | 0/4987 [00:00<?, ?it/s]"
      ]
     },
     "metadata": {},
     "output_type": "display_data"
    },
    {
     "name": "stdout",
     "output_type": "stream",
     "text": [
      "3913\n"
     ]
    },
    {
     "data": {
      "application/vnd.jupyter.widget-view+json": {
       "model_id": "",
       "version_major": 2,
       "version_minor": 0
      },
      "text/plain": [
       "Delaying Signals:   0%|          | 0/4987 [00:00<?, ?it/s]"
      ]
     },
     "metadata": {},
     "output_type": "display_data"
    },
    {
     "data": {
      "application/vnd.jupyter.widget-view+json": {
       "model_id": "",
       "version_major": 2,
       "version_minor": 0
      },
      "text/plain": [
       "Calculating Trapezoids:   0%|          | 0/4987 [00:00<?, ?it/s]"
      ]
     },
     "metadata": {},
     "output_type": "display_data"
    },
    {
     "data": {
      "application/vnd.jupyter.widget-view+json": {
       "model_id": "",
       "version_major": 2,
       "version_minor": 0
      },
      "text/plain": [
       "Removing Saturated Pulses:   0%|          | 0/3833 [00:00<?, ?it/s]"
      ]
     },
     "metadata": {},
     "output_type": "display_data"
    },
    {
     "data": {
      "application/vnd.jupyter.widget-view+json": {
       "model_id": "",
       "version_major": 2,
       "version_minor": 0
      },
      "text/plain": [
       "Noise Floor Subtraction:   0%|          | 0/3826 [00:00<?, ?it/s]"
      ]
     },
     "metadata": {},
     "output_type": "display_data"
    },
    {
     "data": {
      "application/vnd.jupyter.widget-view+json": {
       "model_id": "",
       "version_major": 2,
       "version_minor": 0
      },
      "text/plain": [
       "Finding index of max:   0%|          | 0/3826 [00:00<?, ?it/s]"
      ]
     },
     "metadata": {},
     "output_type": "display_data"
    },
    {
     "data": {
      "application/vnd.jupyter.widget-view+json": {
       "model_id": "",
       "version_major": 2,
       "version_minor": 0
      },
      "text/plain": [
       "Finding the start rise index:   0%|          | 0/3826 [00:00<?, ?it/s]"
      ]
     },
     "metadata": {},
     "output_type": "display_data"
    },
    {
     "data": {
      "application/vnd.jupyter.widget-view+json": {
       "model_id": "",
       "version_major": 2,
       "version_minor": 0
      },
      "text/plain": [
       "Delaying Signals:   0%|          | 0/3826 [00:00<?, ?it/s]"
      ]
     },
     "metadata": {},
     "output_type": "display_data"
    },
    {
     "data": {
      "application/vnd.jupyter.widget-view+json": {
       "model_id": "",
       "version_major": 2,
       "version_minor": 0
      },
      "text/plain": [
       "Calculating Trapezoids:   0%|          | 0/3826 [00:00<?, ?it/s]"
      ]
     },
     "metadata": {},
     "output_type": "display_data"
    }
   ],
   "source": [
    "for i in notebook.tqdm(range(len(pulse_names)), desc = \"Iteration Over Chunks of Pulses\"):\n",
    "    pulsesX = pulse_names[i]\n",
    "    k = 950  #previously optimized peaking time \n",
    "    m = 1000  #previously optimized gap time\n",
    "    l = k+m\n",
    "    \n",
    "    #remove saturated signals\n",
    "    sat = np.amax(np.amax(pulsesX))\n",
    "\n",
    "    nonsat_pulses = []\n",
    "    for a in notebook.tqdm(range(len(pulsesX)), desc=\"Removing Saturated Pulses\", leave = False):\n",
    "        max_y = np.amax(pulsesX[a])\n",
    "        if (max_y != sat):\n",
    "            nonsat_pulses.append(pulsesX[a])\n",
    "\n",
    "    nonsat_pulses = np.array(nonsat_pulses)   \n",
    "\n",
    "    #Background subtraction for the raw data\n",
    "    n = len(nonsat_pulses)\n",
    "    pulses_sub = []\n",
    "    for c in notebook.tqdm(range(n), desc = \"Noise Floor Subtraction\", leave = False):\n",
    "        bkg = np.mean(nonsat_pulses[c][0:500])\n",
    "        pulses_sub.append(nonsat_pulses[c] - bkg)\n",
    "\n",
    "    pulses_sub = np.array(pulses_sub)\n",
    "\n",
    "    #filtering the signals\n",
    "    fs = savgol_filter(pulses_sub, 53, 2)\n",
    "\n",
    "    #find the index of the max value for each fitted signal\n",
    "    imax = []\n",
    "    for q in notebook.tqdm(range(len(fs)), desc = \"Finding index of max\", leave = False):\n",
    "        if np.argmax(fs[q][0:2000]) != 1999:\n",
    "            imax.append(np.argmax(fs[q][0:2000])) # only looking at the first 2000 to avoid late pileup signals\n",
    "\n",
    "    #fit an exponential curve to the decay of each signal to find tau\n",
    "    if i == 0:\n",
    "        tau = []\n",
    "        for d in notebook.tqdm(range(100), desc = \"Finding Tau\", leave = False):\n",
    "            #setting the ranges for exp fitting and x axis parameters\n",
    "            endfit = 20000\n",
    "            s = imax[d] #index of max for pulse d\n",
    "            x = np.arange(0, endfit) #array of values from max index upward for some number of indices, len(x)=endfit\n",
    "\n",
    "            #using exp_func over the values in x\n",
    "            #fits an exp to the ith pulse from index of max to endfit+index of max\n",
    "            try:\n",
    "                popt, pcov = curve_fit(exp_func, x, fs[d][s:endfit+s])\n",
    "                tau.append(1/popt[1])\n",
    "            except:\n",
    "                tau.append(0)\n",
    "\n",
    "        tau = list(filter(lambda a: a != 0, tau))\n",
    "        tau = np.array(tau)\n",
    "        Tau = int(np.mean(tau))\n",
    "\n",
    "    #Place all i in an array\n",
    "    startrise = []\n",
    "    for q2 in notebook.tqdm(range(len(fs)), desc = \"Finding the start rise index\", leave = False):\n",
    "        itemp = int(determine_rise(fs[q2]))\n",
    "        startrise.append(itemp)\n",
    "    startrise = np.array(startrise)\n",
    "\n",
    "    #Delay the signals \n",
    "    dfs = []\n",
    "    d=int(2.5*k+m)\n",
    "    for r in notebook.tqdm(range(len(fs)), desc = \"Delaying Signals\", leave = False):\n",
    "        tempfs = delay_signal(fs[r],delay=d)\n",
    "        dfs.append(tempfs)\n",
    "    dfs = np.array(dfs)\n",
    "\n",
    "    #Calculate the trapezoids\n",
    "    traps = []\n",
    "    for t in notebook.tqdm(range(len(dfs)), desc = \"Calculating Trapezoids\", leave = False):\n",
    "        trap = sfunc(dfs[t], startrise[t], Tau, k, m)\n",
    "        traps.append(trap)\n",
    "        \n",
    "traps = np.array(traps)"
   ]
  },
  {
   "cell_type": "markdown",
   "id": "346e4e52",
   "metadata": {},
   "source": [
    "# Section 4: Height Finding Methods"
   ]
  },
  {
   "cell_type": "code",
   "execution_count": 14,
   "id": "ed14ab62",
   "metadata": {},
   "outputs": [
    {
     "data": {
      "application/vnd.jupyter.widget-view+json": {
       "model_id": "",
       "version_major": 2,
       "version_minor": 0
      },
      "text/plain": [
       "Finding Heights:   0%|          | 0/3826 [00:00<?, ?it/s]"
      ]
     },
     "metadata": {},
     "output_type": "display_data"
    }
   ],
   "source": [
    "############################## Max Height Version Only ####################################################\n",
    "height = []\n",
    "for u in notebook.tqdm(range(len(traps)), desc = \"Finding Heights\", leave = False):\n",
    "    height.append(np.amax(traps[u]))\n",
    "\n",
    "height = list(filter(lambda a: a >= 0, height))    \n",
    "allheights = allheights + height\n",
    "        \n",
    "allheights = np.array(allheights)\n",
    "################################ End of Max Height ########################################################\n",
    "\n",
    "\n",
    "############################ SAVING HEIGHTS ###############################################################\n",
    "# change directory\n",
    "os.chdir(r'C:\\Users\\megas\\Documents\\Cal\\NEFall2022\\Detectors204\\lab1\\TrapHeightsTEST')\n",
    "\n",
    "#Let's just save these heights to a file\n",
    "name = \"{}_{}_k{}m{}_MaxMethod.csv\".format(isotope,length,k,m)\n",
    "np.savetxt(name, allheights, delimiter=\",\")"
   ]
  },
  {
   "cell_type": "code",
   "execution_count": 16,
   "id": "0f4ef437",
   "metadata": {},
   "outputs": [
    {
     "data": {
      "application/vnd.jupyter.widget-view+json": {
       "model_id": "",
       "version_major": 2,
       "version_minor": 0
      },
      "text/plain": [
       "  0%|          | 0/3826 [00:00<?, ?it/s]"
      ]
     },
     "metadata": {},
     "output_type": "display_data"
    },
    {
     "data": {
      "application/vnd.jupyter.widget-view+json": {
       "model_id": "",
       "version_major": 2,
       "version_minor": 0
      },
      "text/plain": [
       "  0%|          | 0/3826 [00:00<?, ?it/s]"
      ]
     },
     "metadata": {},
     "output_type": "display_data"
    }
   ],
   "source": [
    "####################### Trapezoid Fit Version Only ###################################################\n",
    "h1 = []\n",
    "for v1 in notebook.tqdm(range(len(traps)), leave = False):\n",
    "    try:\n",
    "        popt, pcov = curve_fit(fit_trap, np.arange(len(traps[v1])), traps[v1], p0=[400, 1200, 100000, 100, 1400, 1500])\n",
    "        h1.append(popt)\n",
    "    except:\n",
    "        h1.append(np.zeros(6))\n",
    "\n",
    "#Trapezoid Fit method cont.\n",
    "h2 = []\n",
    "#Remove the zero arrays from h1\n",
    "for a in range(len(h1)):\n",
    "    result = h1[a].all(0)\n",
    "    if result == True:\n",
    "        h2.append(h1[a])\n",
    "h2 = np.array(h2)\n",
    "\n",
    "#find the mean of the top of traps\n",
    "height2 = []\n",
    "for b in notebook.tqdm(range(len(h2)), leave = False):\n",
    "    i1 = int(h2[b][3])\n",
    "    i2 = int(h2[b][4])\n",
    "    temph = np.mean(traps[b][i1:i2+1])\n",
    "    height2.append(temph)\n",
    "height2 = list(filter(lambda a: a >= 0, height2))\n",
    "allheights2 = []\n",
    "allheights2 = allheights2 + height2\n",
    "\n",
    "allheights2 = np.array(allheights2)\n",
    "############################ End of Trap Fit Version #####################################################\n",
    "\n",
    "############################ SAVING HEIGHTS ###############################################################\n",
    "# change directory\n",
    "os.chdir(r'C:\\Users\\megas\\Documents\\Cal\\NEFall2022\\Detectors204\\lab1\\TrapHeightsTEST')\n",
    "\n",
    "#Let's just save these heights to a file\n",
    "name = \"{}_{}_k{}m{}_TrapFitMethod.csv\".format(isotope,length,k,m)\n",
    "np.savetxt(name, allheights, delimiter=\",\")"
   ]
  },
  {
   "cell_type": "code",
   "execution_count": 18,
   "id": "45b8328a",
   "metadata": {},
   "outputs": [
    {
     "data": {
      "application/vnd.jupyter.widget-view+json": {
       "model_id": "",
       "version_major": 2,
       "version_minor": 0
      },
      "text/plain": [
       "Taking Derivatives:   0%|          | 0/3826 [00:00<?, ?it/s]"
      ]
     },
     "metadata": {},
     "output_type": "display_data"
    },
    {
     "data": {
      "application/vnd.jupyter.widget-view+json": {
       "model_id": "",
       "version_major": 2,
       "version_minor": 0
      },
      "text/plain": [
       "Finding Bounds of Trapezoid:   0%|          | 0/3826 [00:00<?, ?it/s]"
      ]
     },
     "metadata": {},
     "output_type": "display_data"
    },
    {
     "data": {
      "application/vnd.jupyter.widget-view+json": {
       "model_id": "",
       "version_major": 2,
       "version_minor": 0
      },
      "text/plain": [
       "Finding Zero Crossings:   0%|          | 0/3826 [00:00<?, ?it/s]"
      ]
     },
     "metadata": {},
     "output_type": "display_data"
    },
    {
     "name": "stderr",
     "output_type": "stream",
     "text": [
      "C:\\Users\\megas\\anaconda3\\envs\\NE204V1\\lib\\site-packages\\ipykernel_launcher.py:44: VisibleDeprecationWarning: Creating an ndarray from ragged nested sequences (which is a list-or-tuple of lists-or-tuples-or ndarrays with different lengths or shapes) is deprecated. If you meant to do this, you must specify 'dtype=object' when creating the ndarray.\n"
     ]
    },
    {
     "data": {
      "application/vnd.jupyter.widget-view+json": {
       "model_id": "",
       "version_major": 2,
       "version_minor": 0
      },
      "text/plain": [
       "Finding the Height:   0%|          | 0/3826 [00:00<?, ?it/s]"
      ]
     },
     "metadata": {},
     "output_type": "display_data"
    }
   ],
   "source": [
    "################################ Start Gradient Method ###############################################\n",
    "#Using the gradient of the trapezoid to find the flat top (instead of fitting a trapezoid to it)\n",
    "bound1 = []\n",
    "bound2 = []\n",
    "tg = []\n",
    "tgg = []\n",
    "for j3 in notebook.tqdm(range(len(traps)), desc = \"Taking Derivatives\", leave = False):\n",
    "    tgtemp = np.gradient(traps[j3])\n",
    "    tggtemp = np.gradient(tgtemp)\n",
    "    tg.append(tgtemp)\n",
    "    tgg.append(tggtemp)\n",
    "tg = np.array(tg)\n",
    "tgg = np.array(tgg)\n",
    "ftgg = savgol_filter(tgg, 7, 0)\n",
    "\n",
    "for i2 in notebook.tqdm(range(len(tgg)), desc = \"Finding Bounds of Trapezoid\", leave = False):        \n",
    "    sortedtgg = np.argsort(ftgg[i2])\n",
    "    minima = []\n",
    "    maxima = []\n",
    "    for j2 in range(500):\n",
    "        diff = np.abs(sortedtgg[j2]-sortedtgg[j2+1])\n",
    "        if diff > 400:\n",
    "            minima.append(sortedtgg[j2])\n",
    "    minima = np.array(minima)\n",
    "\n",
    "    #minima[0] and minima[1] are the trapezoid top boundaries\n",
    "    b1 = min(minima[0], minima[1])\n",
    "    b2 = max(minima[0], minima[1])\n",
    "    bound1.append(b1)\n",
    "    bound2.append(b2)\n",
    "\n",
    "bound1 = np.array(bound1)\n",
    "bound2 = np.array(bound2)\n",
    "\n",
    "allzeros = []\n",
    "for k2 in notebook.tqdm(range(len(ftgg)), desc = \"Finding Zero Crossings\", leave = False):  \n",
    "    zeros = []\n",
    "    for m2 in range(bound2[k2]-bound1[k2]):\n",
    "        n2 = m2 + bound1[k2]\n",
    "        if ftgg[k2][n2]*ftgg[k2][n2+1] <= 0:\n",
    "            zeros.append(n2)\n",
    "    allzeros.append(zeros)\n",
    "\n",
    "allzeros = np.array(allzeros)\n",
    "\n",
    "start = []\n",
    "end = []\n",
    "height3 = []\n",
    "duds = []\n",
    "for w in notebook.tqdm(range(len(allzeros)), desc = \"Finding the Height\", leave = False):\n",
    "    try:\n",
    "        st = allzeros[w][0]\n",
    "        ed = allzeros[w][-1]\n",
    "        start.append(st)\n",
    "        end.append(ed)\n",
    "    except:\n",
    "        start.append(bound1[w])\n",
    "        end.append(bound2[w])\n",
    "\n",
    "    #find the mean height\n",
    "    trapheight = np.mean(traps[w][st:ed])\n",
    "    height3.append(trapheight)\n",
    "\n",
    "start = np.array(start)\n",
    "end = np.array(end)\n",
    "allheights3 = []\n",
    "allheights3 = allheights3 + height3\n",
    "\n",
    "allheights3 = np.array(allheights3)\n",
    "################################# End Gradient Method ####################################################\n",
    "\n",
    "############################ SAVING HEIGHTS ###############################################################\n",
    "# change directory\n",
    "os.chdir(r'C:\\Users\\megas\\Documents\\Cal\\NEFall2022\\Detectors204\\lab1\\TrapHeightsTEST')\n",
    "\n",
    "#Let's just save these heights to a file\n",
    "name = \"{}_{}_k{}m{}_GradientMethod.csv\".format(isotope,length,k,m)\n",
    "np.savetxt(name, allheights3, delimiter=\",\")"
   ]
  }
 ],
 "metadata": {
  "kernelspec": {
   "display_name": "Python 3 (ipykernel)",
   "language": "python",
   "name": "python3"
  },
  "language_info": {
   "codemirror_mode": {
    "name": "ipython",
    "version": 3
   },
   "file_extension": ".py",
   "mimetype": "text/x-python",
   "name": "python",
   "nbconvert_exporter": "python",
   "pygments_lexer": "ipython3",
   "version": "3.7.13"
  }
 },
 "nbformat": 4,
 "nbformat_minor": 5
}
