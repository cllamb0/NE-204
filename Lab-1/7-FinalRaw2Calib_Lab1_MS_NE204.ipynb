{
 "cells": [
  {
   "cell_type": "markdown",
   "id": "a0ae87c3",
   "metadata": {},
   "source": [
    "# Step 7: NE204 Lab 1\n",
    "## Raw Pulses to Calibrated Spectrum\n",
    "\n",
    "__Group: Megan Schiferl, Curtis Berger, Chris Lamb, Jisu Park__\n",
    "\n",
    "__Fall 2022__\n",
    "\n",
    "__Contents__\n",
    "The purpose of this notebook is to take in raw pulses from a high purity germanium detector and return a calibrated spectrum, using prevoiusly optimized filtering parameters and calibration curve.\n",
    "\n",
    "    Section 1: Imports\n",
    "    Section 2: Splitting the Data\n",
    "    Section 3: Defining Functions\n",
    "    Section 4: Calculating Trapezoid Heights from Raw Data (Using the Max Value Method)\n",
    "    Section 5: Calibrated Spectrum\n",
    "    \n",
    "\n",
    "Note: To run this notebook successfully, you'll need to check/change the following:\n",
    " - In Section 1: Imports - the second cell is where you'll import the raw pulses from the detector and the calibration paramters. You'll need to change the directory and file names. \n",
    " \n",
    " - In Section 2: Splitting the data - depending on the number of pulses in the file, you'll need to change the number of pulsesX arrays to hold ~5000 pulses. This step was necessary for my (Megan's) computer to handle the large file sizes. Thus, the code is built around this structure. Section 1 has an output that will tell you the number of pulseX arrays to use. \n",
    " \n",
    "Once you have these parts checked and changed, you can run the rest of the notebook through to get your spectrum!"
   ]
  },
  {
   "cell_type": "markdown",
   "id": "fb037996",
   "metadata": {},
   "source": [
    "# Section 1: Imports"
   ]
  },
  {
   "cell_type": "code",
   "execution_count": 1,
   "id": "789af604",
   "metadata": {},
   "outputs": [],
   "source": [
    "import numpy as np\n",
    "import matplotlib.pyplot as plt\n",
    "import h5py\n",
    "import time\n",
    "import pandas as pd\n",
    "from scipy import signal\n",
    "from scipy.signal import savgol_filter\n",
    "from scipy.optimize import curve_fit\n",
    "import os\n",
    "from tqdm import notebook\n",
    "import matplotlib.colors as mcolors\n",
    "from decimal import Decimal"
   ]
  },
  {
   "cell_type": "code",
   "execution_count": 2,
   "id": "3b5303cc",
   "metadata": {},
   "outputs": [],
   "source": [
    "################Import Raw Pulses Here######################################\n",
    "\n",
    "# change directory\n",
    "yourdirectory = r'C:/Users/megas/Documents/Cal/NEFall2022/Detectors204/lab1/'\n",
    "os.chdir(yourdirectory)\n",
    "\n",
    "#Import the raw pulse data\n",
    "path = r'C:\\Users\\megas\\Documents\\Cal\\NEFall2022\\Detectors204\\lab1\\FinalData\\Cs137-24in-2.h5'\n",
    "f = h5py.File(path, 'r')\n",
    "\n",
    "############# Calibration Parameters here ################################\n",
    "os.chdir(r'C:\\Users\\megas\\Documents\\Cal\\NEFall2022\\Detectors204\\lab2\\PulsesPE')\n",
    "calib = pd.read_csv(\"CalibrationParameters.csv\")\n",
    "calib = np.array(calib)"
   ]
  },
  {
   "cell_type": "code",
   "execution_count": 3,
   "id": "67090453",
   "metadata": {},
   "outputs": [
    {
     "name": "stdout",
     "output_type": "stream",
     "text": [
      "The number of pulses in this file is: 16005\n",
      "The length of each pulse is: 62500\n",
      "The number of pulsesX arrays you will need is: 4\n"
     ]
    }
   ],
   "source": [
    "#Save the data into an array for analysis\n",
    "pulses = np.array(f['raw_data'])\n",
    "\n",
    "f.close()\n",
    "#Remove the last second of pulses due to DAC mistake (approximate)\n",
    "pulses = pulses[:-140]\n",
    "\n",
    "print(\"The number of pulses in this file is:\", len(pulses))\n",
    "print(\"The length of each pulse is:\", len(pulses[0]))\n",
    "print(\"The number of pulsesX arrays you will need is:\", int(len(pulses)/5000)+1)"
   ]
  },
  {
   "cell_type": "markdown",
   "id": "3745eeae",
   "metadata": {},
   "source": [
    "# Section 2: Splitting the Data"
   ]
  },
  {
   "cell_type": "code",
   "execution_count": 4,
   "id": "360fee22",
   "metadata": {},
   "outputs": [
    {
     "data": {
      "application/vnd.jupyter.widget-view+json": {
       "model_id": "138f57e3f85a467389496b3e5725a314",
       "version_major": 2,
       "version_minor": 0
      },
      "text/plain": [
       "  0%|          | 0/16005 [00:00<?, ?it/s]"
      ]
     },
     "metadata": {},
     "output_type": "display_data"
    },
    {
     "name": "stdout",
     "output_type": "stream",
     "text": [
      "The lengths of each array are as follows:  5000 5000 5000 1005\n"
     ]
    }
   ],
   "source": [
    "#Split the large files up into different arrays\n",
    "#This part has to happen in my code because my computer sucks and can only run 5000 pulses through a for loop at one time without crashing...\n",
    "pulses1 = []\n",
    "pulses2 = []\n",
    "pulses3 = []\n",
    "pulses4 = []\n",
    "# pulses5 = []\n",
    "# pulses6 = []\n",
    "# pulses7 = []\n",
    "for i in notebook.tqdm(range(len(pulses))):\n",
    "    if i < 5000:\n",
    "        pulses1.append(pulses[i])\n",
    "    elif i < 10000:\n",
    "        pulses2.append(pulses[i])\n",
    "    elif i < 15000:\n",
    "        pulses3.append(pulses[i])\n",
    "    elif i < 20000:\n",
    "        pulses4.append(pulses[i])\n",
    "#     elif i < 25000:\n",
    "#         pulses5.append(pulses[i])\n",
    "#     elif i < 30000:\n",
    "#         pulses6.append(pulses[i])\n",
    "#     else:\n",
    "#         pulses7.append(pulses[i])\n",
    "\n",
    "pulse_names = [pulses1, pulses2, pulses3, pulses4]\n",
    "#                , pulses5, pulses6, pulses7]\n",
    "        \n",
    "print(\"The lengths of each array are as follows: \", len(pulses1), len(pulses2), len(pulses3), len(pulses4))\n",
    "#       len(pulses5), len(pulses6), len(pulses7))"
   ]
  },
  {
   "cell_type": "markdown",
   "id": "ade58e61",
   "metadata": {},
   "source": [
    "# Section 3: Defining Functions"
   ]
  },
  {
   "cell_type": "code",
   "execution_count": 5,
   "id": "94148c84",
   "metadata": {},
   "outputs": [],
   "source": [
    "#defining an exponential function\n",
    "def exp_func(x, a, b, c):\n",
    "    #returns a times e^(-b times a) + c\n",
    "    return a * np.exp(-b * x) + c\n",
    "    \n",
    "#Finding the start of rise index using V4 from the notes notebook\n",
    "def determine_rise(signal, sigma=8, window=20, offset=15):\n",
    "    noise_samp = signal[:500]\n",
    "    mean, std = np.mean(noise_samp), np.std(noise_samp)\n",
    "\n",
    "    grad = np.gradient(np.where(signal > mean+sigma*std, signal, 0))\n",
    "\n",
    "    grad_pos, grad_neg = np.argwhere(grad>2), np.argwhere(grad<-2)\n",
    "\n",
    "    rise_start = 0\n",
    "    for gp in grad_pos:\n",
    "        close = False\n",
    "        for gn in grad_neg:\n",
    "            if (gp-gn < window and gp-gn >0):\n",
    "                close = True\n",
    "        if not close:\n",
    "            rise_start = gp\n",
    "            break\n",
    "\n",
    "    return int(rise_start-offset)\n",
    "\n",
    "#Define the trapezoidal filter and signal output function\n",
    "def delay_signal(signal, delay, p=500):\n",
    "    np.random.seed(9)\n",
    "    noise_samp = signal[:p]\n",
    "    mean, std = np.mean(noise_samp), np.std(noise_samp)\n",
    "    noise = np.random.normal(mean, 0.8*std, delay)\n",
    "    return np.hstack([noise, signal])\n",
    "\n",
    "def dkl(signal, i, k, l, w=0):\n",
    "    if w == 0:\n",
    "        w = int(2.5*k+l)\n",
    "    vj = signal[i+w:i+w+w] \n",
    "    vjk = signal[i+w-k:i+w-k+w]\n",
    "    vjl = signal[i+w-l:i+w-l+w]\n",
    "    vjkl = signal[i+w-k-l:i+w-k-l+w]\n",
    "    dkl_s = vj - vjk - vjl + vjkl\n",
    "    return dkl_s\n",
    "\n",
    "def sfunc(signal, start_rise, tau, peaking_time, gap_time, w=0):\n",
    "    if w == 0:\n",
    "        w = int(2.5*peaking_time+gap_time)\n",
    "    ss = []\n",
    "    dkl_s = dkl(signal, start_rise, peaking_time, peaking_time+gap_time, w)\n",
    "    for j in range(w):\n",
    "        if j == 0:\n",
    "            ss.append(0)\n",
    "        else:\n",
    "            ss.append(ss[j-1]*(1+1/tau)+ dkl_s[j])\n",
    "    return np.array(ss)\n",
    "\n",
    "#Define a gaussian function for fitting \n",
    "def gauss(x, H, A, x0, sigma):\n",
    "    # Gaussian signal shape\n",
    "    return H + A * np.exp(-(x - x0) ** 2 / (2 * sigma ** 2))\n",
    "\n",
    "#using the gaussian function to fit signals \n",
    "def gauss_fit(x, y):\n",
    "    # Fits gaussian and returns fit parameters\n",
    "    mean = sum(x * y) / sum(y)\n",
    "    sigma = np.sqrt(sum(y * (x - mean) ** 2) / sum(y))\n",
    "    popt, pcov = curve_fit(gauss, x, y, p0=[min(y), max(y), mean, sigma])\n",
    "    return popt\n",
    "\n",
    "#Function for energy calibration\n",
    "def calibrate_energy(ch, a1, a2, a3, a4, a5, b):\n",
    "    # Energy calibrate channel number given calibration constants\n",
    "    return a1*ch + a2*ch**2 + a3*ch**3 + a4*ch**4 + a5*ch**5 + b\n",
    "\n"
   ]
  },
  {
   "cell_type": "markdown",
   "id": "7422fef0",
   "metadata": {},
   "source": [
    "# Section 4: Calculating Trapezoid Heights from Raw Pulse Data \n",
    "## Using the Maximum Value Method"
   ]
  },
  {
   "cell_type": "code",
   "execution_count": 6,
   "id": "c8f67777",
   "metadata": {},
   "outputs": [
    {
     "data": {
      "application/vnd.jupyter.widget-view+json": {
       "model_id": "38199c9930d243ce87db0bce7d2e2ea7",
       "version_major": 2,
       "version_minor": 0
      },
      "text/plain": [
       "Iteration Over Chunks of Pulses:   0%|          | 0/4 [00:00<?, ?it/s]"
      ]
     },
     "metadata": {},
     "output_type": "display_data"
    },
    {
     "data": {
      "application/vnd.jupyter.widget-view+json": {
       "model_id": "",
       "version_major": 2,
       "version_minor": 0
      },
      "text/plain": [
       "Removing Saturated Pulses:   0%|          | 0/5000 [00:00<?, ?it/s]"
      ]
     },
     "metadata": {},
     "output_type": "display_data"
    },
    {
     "data": {
      "application/vnd.jupyter.widget-view+json": {
       "model_id": "",
       "version_major": 2,
       "version_minor": 0
      },
      "text/plain": [
       "Noise Floor Subtraction:   0%|          | 0/4982 [00:00<?, ?it/s]"
      ]
     },
     "metadata": {},
     "output_type": "display_data"
    },
    {
     "data": {
      "application/vnd.jupyter.widget-view+json": {
       "model_id": "",
       "version_major": 2,
       "version_minor": 0
      },
      "text/plain": [
       "Finding index of max:   0%|          | 0/4982 [00:00<?, ?it/s]"
      ]
     },
     "metadata": {},
     "output_type": "display_data"
    },
    {
     "data": {
      "application/vnd.jupyter.widget-view+json": {
       "model_id": "",
       "version_major": 2,
       "version_minor": 0
      },
      "text/plain": [
       "Finding Tau:   0%|          | 0/100 [00:00<?, ?it/s]"
      ]
     },
     "metadata": {},
     "output_type": "display_data"
    },
    {
     "name": "stderr",
     "output_type": "stream",
     "text": [
      "C:\\Users\\megas\\anaconda3\\envs\\NE204V1\\lib\\site-packages\\ipykernel_launcher.py:4: RuntimeWarning: overflow encountered in exp\n",
      "  after removing the cwd from sys.path.\n",
      "C:\\Users\\megas\\anaconda3\\envs\\NE204V1\\lib\\site-packages\\ipykernel_launcher.py:4: RuntimeWarning: overflow encountered in multiply\n",
      "  after removing the cwd from sys.path.\n",
      "C:\\Users\\megas\\anaconda3\\envs\\NE204V1\\lib\\site-packages\\scipy\\optimize\\minpack.py:834: OptimizeWarning: Covariance of the parameters could not be estimated\n",
      "  category=OptimizeWarning)\n"
     ]
    },
    {
     "data": {
      "application/vnd.jupyter.widget-view+json": {
       "model_id": "",
       "version_major": 2,
       "version_minor": 0
      },
      "text/plain": [
       "Finding the start rise index:   0%|          | 0/4982 [00:00<?, ?it/s]"
      ]
     },
     "metadata": {},
     "output_type": "display_data"
    },
    {
     "data": {
      "application/vnd.jupyter.widget-view+json": {
       "model_id": "",
       "version_major": 2,
       "version_minor": 0
      },
      "text/plain": [
       "Delaying Signals:   0%|          | 0/4982 [00:00<?, ?it/s]"
      ]
     },
     "metadata": {},
     "output_type": "display_data"
    },
    {
     "data": {
      "application/vnd.jupyter.widget-view+json": {
       "model_id": "",
       "version_major": 2,
       "version_minor": 0
      },
      "text/plain": [
       "Calculating Trapezoids:   0%|          | 0/4982 [00:00<?, ?it/s]"
      ]
     },
     "metadata": {},
     "output_type": "display_data"
    },
    {
     "data": {
      "application/vnd.jupyter.widget-view+json": {
       "model_id": "",
       "version_major": 2,
       "version_minor": 0
      },
      "text/plain": [
       "Finding Heights:   0%|          | 0/4982 [00:00<?, ?it/s]"
      ]
     },
     "metadata": {},
     "output_type": "display_data"
    },
    {
     "data": {
      "application/vnd.jupyter.widget-view+json": {
       "model_id": "",
       "version_major": 2,
       "version_minor": 0
      },
      "text/plain": [
       "Removing Saturated Pulses:   0%|          | 0/5000 [00:00<?, ?it/s]"
      ]
     },
     "metadata": {},
     "output_type": "display_data"
    },
    {
     "data": {
      "application/vnd.jupyter.widget-view+json": {
       "model_id": "",
       "version_major": 2,
       "version_minor": 0
      },
      "text/plain": [
       "Noise Floor Subtraction:   0%|          | 0/4986 [00:00<?, ?it/s]"
      ]
     },
     "metadata": {},
     "output_type": "display_data"
    },
    {
     "data": {
      "application/vnd.jupyter.widget-view+json": {
       "model_id": "",
       "version_major": 2,
       "version_minor": 0
      },
      "text/plain": [
       "Finding index of max:   0%|          | 0/4986 [00:00<?, ?it/s]"
      ]
     },
     "metadata": {},
     "output_type": "display_data"
    },
    {
     "data": {
      "application/vnd.jupyter.widget-view+json": {
       "model_id": "",
       "version_major": 2,
       "version_minor": 0
      },
      "text/plain": [
       "Finding the start rise index:   0%|          | 0/4986 [00:00<?, ?it/s]"
      ]
     },
     "metadata": {},
     "output_type": "display_data"
    },
    {
     "data": {
      "application/vnd.jupyter.widget-view+json": {
       "model_id": "",
       "version_major": 2,
       "version_minor": 0
      },
      "text/plain": [
       "Delaying Signals:   0%|          | 0/4986 [00:00<?, ?it/s]"
      ]
     },
     "metadata": {},
     "output_type": "display_data"
    },
    {
     "data": {
      "application/vnd.jupyter.widget-view+json": {
       "model_id": "",
       "version_major": 2,
       "version_minor": 0
      },
      "text/plain": [
       "Calculating Trapezoids:   0%|          | 0/4986 [00:00<?, ?it/s]"
      ]
     },
     "metadata": {},
     "output_type": "display_data"
    },
    {
     "data": {
      "application/vnd.jupyter.widget-view+json": {
       "model_id": "",
       "version_major": 2,
       "version_minor": 0
      },
      "text/plain": [
       "Finding Heights:   0%|          | 0/4986 [00:00<?, ?it/s]"
      ]
     },
     "metadata": {},
     "output_type": "display_data"
    },
    {
     "data": {
      "application/vnd.jupyter.widget-view+json": {
       "model_id": "",
       "version_major": 2,
       "version_minor": 0
      },
      "text/plain": [
       "Removing Saturated Pulses:   0%|          | 0/5000 [00:00<?, ?it/s]"
      ]
     },
     "metadata": {},
     "output_type": "display_data"
    },
    {
     "data": {
      "application/vnd.jupyter.widget-view+json": {
       "model_id": "",
       "version_major": 2,
       "version_minor": 0
      },
      "text/plain": [
       "Noise Floor Subtraction:   0%|          | 0/4986 [00:00<?, ?it/s]"
      ]
     },
     "metadata": {},
     "output_type": "display_data"
    },
    {
     "data": {
      "application/vnd.jupyter.widget-view+json": {
       "model_id": "",
       "version_major": 2,
       "version_minor": 0
      },
      "text/plain": [
       "Finding index of max:   0%|          | 0/4986 [00:00<?, ?it/s]"
      ]
     },
     "metadata": {},
     "output_type": "display_data"
    },
    {
     "data": {
      "application/vnd.jupyter.widget-view+json": {
       "model_id": "",
       "version_major": 2,
       "version_minor": 0
      },
      "text/plain": [
       "Finding the start rise index:   0%|          | 0/4986 [00:00<?, ?it/s]"
      ]
     },
     "metadata": {},
     "output_type": "display_data"
    },
    {
     "data": {
      "application/vnd.jupyter.widget-view+json": {
       "model_id": "",
       "version_major": 2,
       "version_minor": 0
      },
      "text/plain": [
       "Delaying Signals:   0%|          | 0/4986 [00:00<?, ?it/s]"
      ]
     },
     "metadata": {},
     "output_type": "display_data"
    },
    {
     "data": {
      "application/vnd.jupyter.widget-view+json": {
       "model_id": "",
       "version_major": 2,
       "version_minor": 0
      },
      "text/plain": [
       "Calculating Trapezoids:   0%|          | 0/4986 [00:00<?, ?it/s]"
      ]
     },
     "metadata": {},
     "output_type": "display_data"
    },
    {
     "data": {
      "application/vnd.jupyter.widget-view+json": {
       "model_id": "",
       "version_major": 2,
       "version_minor": 0
      },
      "text/plain": [
       "Finding Heights:   0%|          | 0/4986 [00:00<?, ?it/s]"
      ]
     },
     "metadata": {},
     "output_type": "display_data"
    },
    {
     "data": {
      "application/vnd.jupyter.widget-view+json": {
       "model_id": "",
       "version_major": 2,
       "version_minor": 0
      },
      "text/plain": [
       "Removing Saturated Pulses:   0%|          | 0/1005 [00:00<?, ?it/s]"
      ]
     },
     "metadata": {},
     "output_type": "display_data"
    },
    {
     "data": {
      "application/vnd.jupyter.widget-view+json": {
       "model_id": "",
       "version_major": 2,
       "version_minor": 0
      },
      "text/plain": [
       "Noise Floor Subtraction:   0%|          | 0/1004 [00:00<?, ?it/s]"
      ]
     },
     "metadata": {},
     "output_type": "display_data"
    },
    {
     "data": {
      "application/vnd.jupyter.widget-view+json": {
       "model_id": "",
       "version_major": 2,
       "version_minor": 0
      },
      "text/plain": [
       "Finding index of max:   0%|          | 0/1004 [00:00<?, ?it/s]"
      ]
     },
     "metadata": {},
     "output_type": "display_data"
    },
    {
     "data": {
      "application/vnd.jupyter.widget-view+json": {
       "model_id": "",
       "version_major": 2,
       "version_minor": 0
      },
      "text/plain": [
       "Finding the start rise index:   0%|          | 0/1004 [00:00<?, ?it/s]"
      ]
     },
     "metadata": {},
     "output_type": "display_data"
    },
    {
     "data": {
      "application/vnd.jupyter.widget-view+json": {
       "model_id": "",
       "version_major": 2,
       "version_minor": 0
      },
      "text/plain": [
       "Delaying Signals:   0%|          | 0/1004 [00:00<?, ?it/s]"
      ]
     },
     "metadata": {},
     "output_type": "display_data"
    },
    {
     "data": {
      "application/vnd.jupyter.widget-view+json": {
       "model_id": "",
       "version_major": 2,
       "version_minor": 0
      },
      "text/plain": [
       "Calculating Trapezoids:   0%|          | 0/1004 [00:00<?, ?it/s]"
      ]
     },
     "metadata": {},
     "output_type": "display_data"
    },
    {
     "data": {
      "application/vnd.jupyter.widget-view+json": {
       "model_id": "",
       "version_major": 2,
       "version_minor": 0
      },
      "text/plain": [
       "Finding Heights:   0%|          | 0/1004 [00:00<?, ?it/s]"
      ]
     },
     "metadata": {},
     "output_type": "display_data"
    }
   ],
   "source": [
    "#Calculate Trapzoid heights\n",
    "##################################################################################\n",
    "#del allheights\n",
    "allheights = []\n",
    "for i in notebook.tqdm(range(len(pulse_names)), desc = \"Iteration Over Chunks of Pulses\"):\n",
    "    pulsesX = pulse_names[i]\n",
    "    k = 950  #previously optimized peaking time \n",
    "    m = 1000  #previously optimized gap time\n",
    "    l = k+m\n",
    "    \n",
    "    #remove saturated signals\n",
    "    sat = np.amax(np.amax(pulsesX))\n",
    "\n",
    "    nonsat_pulses = []\n",
    "    for a in notebook.tqdm(range(len(pulsesX)), desc=\"Removing Saturated Pulses\", leave = False):\n",
    "        max_y = np.amax(pulsesX[a])\n",
    "        if (max_y != sat):\n",
    "            nonsat_pulses.append(pulsesX[a])\n",
    "\n",
    "    nonsat_pulses = np.array(nonsat_pulses)   \n",
    "\n",
    "    #Background subtraction for the raw data\n",
    "    n = len(nonsat_pulses)\n",
    "    pulses_sub = []\n",
    "    for c in notebook.tqdm(range(n), desc = \"Noise Floor Subtraction\", leave = False):\n",
    "        bkg = np.mean(nonsat_pulses[c][0:500])\n",
    "        pulses_sub.append(nonsat_pulses[c] - bkg)\n",
    "\n",
    "    pulses_sub = np.array(pulses_sub)\n",
    "\n",
    "    #filtering the signals\n",
    "    fs = savgol_filter(pulses_sub, 53, 2)\n",
    "\n",
    "    #find the index of the max value for each fitted signal\n",
    "    imax = []\n",
    "    for q in notebook.tqdm(range(len(fs)), desc = \"Finding index of max\", leave = False):\n",
    "        if np.argmax(fs[q][0:2000]) != 1999:\n",
    "            imax.append(np.argmax(fs[q][0:2000])) # only looking at the first 2000 to avoid late pileup signals\n",
    "\n",
    "    #fit an exponential curve to the decay of each signal to find tau\n",
    "    if i == 0:\n",
    "        tau = []\n",
    "        for d in notebook.tqdm(range(100), desc = \"Finding Tau\", leave = False):\n",
    "            #setting the ranges for exp fitting and x axis parameters\n",
    "            endfit = 20000\n",
    "            s = imax[d] #index of max for pulse d\n",
    "            x = np.arange(0, endfit) #array of values from max index upward for some number of indices, len(x)=endfit\n",
    "\n",
    "            #using exp_func over the values in x\n",
    "            #fits an exp to the ith pulse from index of max to endfit+index of max\n",
    "            try:\n",
    "                popt, pcov = curve_fit(exp_func, x, fs[d][s:endfit+s])\n",
    "                tau.append(1/popt[1])\n",
    "            except:\n",
    "                tau.append(0)\n",
    "\n",
    "        tau = list(filter(lambda a: a != 0, tau))\n",
    "        tau = np.array(tau)\n",
    "        Tau = int(np.mean(tau))\n",
    "\n",
    "    #Place all i in an array\n",
    "    startrise = []\n",
    "    for q2 in notebook.tqdm(range(len(fs)), desc = \"Finding the start rise index\", leave = False):\n",
    "        itemp = int(determine_rise(fs[q2]))\n",
    "        startrise.append(itemp)\n",
    "    startrise = np.array(startrise)\n",
    "\n",
    "    #Delay the signals \n",
    "    dfs = []\n",
    "    d=int(2.5*k+m)\n",
    "    for r in notebook.tqdm(range(len(fs)), desc = \"Delaying Signals\", leave = False):\n",
    "        tempfs = delay_signal(fs[r],delay=d)\n",
    "        dfs.append(tempfs)\n",
    "    dfs = np.array(dfs)\n",
    "\n",
    "    #Calculate the trapezoids\n",
    "    traps = []\n",
    "    for t in notebook.tqdm(range(len(dfs)), desc = \"Calculating Trapezoids\", leave = False):\n",
    "        trap = sfunc(dfs[t], startrise[t], Tau, k, m)\n",
    "        traps.append(trap)\n",
    "\n",
    "    #Find the maximum height of the trapezoids\n",
    "    height = []\n",
    "    for u in notebook.tqdm(range(len(traps)), desc = \"Finding Heights\", leave = False):\n",
    "        height.append(np.amax(traps[u]))\n",
    "    \n",
    "    height = list(filter(lambda a: a >= 0, height))    \n",
    "    allheights = allheights + height\n",
    "        \n",
    "allheights = np.array(allheights)"
   ]
  },
  {
   "cell_type": "markdown",
   "id": "65bdf82b",
   "metadata": {},
   "source": [
    "# Section 5: Calibrated Spectrum"
   ]
  },
  {
   "cell_type": "code",
   "execution_count": 7,
   "id": "43f835fa",
   "metadata": {},
   "outputs": [
    {
     "data": {
      "image/png": "[encoded data removed]",
      "text/plain": [
       "<Figure size 640x480 with 1 Axes>"
      ]
     },
     "metadata": {},
     "output_type": "display_data"
    }
   ],
   "source": [
    "bh = []\n",
    "gh = []\n",
    "for i in range(len(allheights)):\n",
    "    if allheights[i] > 2*np.mean(allheights):\n",
    "        bh.append(allheights[i])\n",
    "    else:\n",
    "        gh.append(allheights[i])\n",
    "\n",
    "gh = np.array(gh)\n",
    "\n",
    "calibrated_heights = []\n",
    "for i in range(len(gh)):\n",
    "    temp = calibrate_energy(gh[i], *calib)\n",
    "    calibrated_heights.append(temp)\n",
    "    \n",
    "calibrated_heights = np.array(calibrated_heights)\n",
    "\n",
    "plt.figure()\n",
    "plt.title(\"Calibrated Gamma Spectrum\")\n",
    "plt.xlabel(\"Energy (keV)\")\n",
    "plt.ylabel(\"Counts\")\n",
    "plt.semilogy()\n",
    "spectrum, bins = np.histogram(calibrated_heights, bins=int(len(calibrated_heights)/20)) #bins of width 20 channels\n",
    "plt.hist(bins[:-1], bins, weights = spectrum, histtype='stepfilled', color='r',alpha = 0.9, \n",
    "         label = \"Gamma Spectrum\")\n",
    "plt.show()"
   ]
  }
 ],
 "metadata": {
  "kernelspec": {
   "display_name": "Python 3 (ipykernel)",
   "language": "python",
   "name": "python3"
  },
  "language_info": {
   "codemirror_mode": {
    "name": "ipython",
    "version": 3
   },
   "file_extension": ".py",
   "mimetype": "text/x-python",
   "name": "python",
   "nbconvert_exporter": "python",
   "pygments_lexer": "ipython3",
   "version": "3.7.13"
  }
 },
 "nbformat": 4,
 "nbformat_minor": 5
}
